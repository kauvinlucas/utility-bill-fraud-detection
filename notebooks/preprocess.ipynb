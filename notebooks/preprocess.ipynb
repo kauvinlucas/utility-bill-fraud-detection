{
 "cells": [
  {
   "cell_type": "markdown",
   "metadata": {},
   "source": [
    "## Preprocesamiento de los datos"
   ]
  },
  {
   "cell_type": "code",
   "execution_count": null,
   "metadata": {},
   "outputs": [],
   "source": [
    "import os\n",
    "cwd = os.getcwd()\n",
    "os.chdir(\"../code/utils\")\n",
    "from image_transform import find_best_contours, order_points, four_point_transform\n",
    "os.chdir(cwd)\n",
    "from pathlib import Path\n",
    "\n",
    "import matplotlib.pyplot as plt\n",
    "import numpy as np\n",
    "import PIL\n",
    "import cv2\n",
    "import imutils\n",
    "\n",
    "from random import shuffle, choice\n",
    "\n",
    "from tqdm.notebook import tqdm"
   ]
  },
  {
   "cell_type": "markdown",
   "metadata": {},
   "source": [
    "#### Defining image paths"
   ]
  },
  {
   "cell_type": "code",
   "execution_count": 56,
   "metadata": {},
   "outputs": [],
   "source": [
    "input_images_path = \"../input/data/original\"\n",
    "destination_images_path = \"../input/data/preprocessed\"\n",
    "test_data_percentage = 0.1\n",
    "classes = ['fraud', 'not-fraud']"
   ]
  },
  {
   "cell_type": "markdown",
   "metadata": {},
   "source": [
    "#### Transforming each image by identifying contours and cutting edges and saving shuffled transformed data to \"preprocess\" folder"
   ]
  },
  {
   "cell_type": "code",
   "execution_count": null,
   "metadata": {},
   "outputs": [
    {
     "data": {
      "application/vnd.jupyter.widget-view+json": {
       "model_id": "e47c4847095e4b7c896861bd53ae5b54",
       "version_major": 2,
       "version_minor": 0
      },
      "text/plain": [
       "0it [00:00, ?it/s]"
      ]
     },
     "metadata": {},
     "output_type": "display_data"
    },
    {
     "name": "stdout",
     "output_type": "stream",
     "text": [
      "CPU times: total: 1min 18s\n",
      "Wall time: 2min 33s\n"
     ]
    }
   ],
   "source": [
    "%%time\n",
    "progress_bar = tqdm()\n",
    "for class_ in classes:\n",
    "    Path(f\"{destination_images_path}/train/{class_}\").mkdir(parents=True, exist_ok=True)\n",
    "    Path(f\"{destination_images_path}/test/{class_}\").mkdir(parents=True, exist_ok=True)\n",
    "    imgs = os.listdir(input_images_path+f\"/{class_}\")\n",
    "    imgs = [img for img in imgs if img!= 'backup']\n",
    "    shuffle(imgs)\n",
    "    progress_bar.reset(total=len(imgs))\n",
    "    new_size = (1024, 500)\n",
    "\n",
    "    for i, img in enumerate(imgs, start=1):\n",
    "        train_or_test = 'test' if choice([0,1,2,3,4,5,6,7,8,9]) == 0 else 'train'\n",
    "        progress_bar.set_description(f\"Transforming image '{img}' from '{class_}' folder and saving in 'preprocess/{train_or_test}' folder\")\n",
    "        img_path = input_images_path + f\"/{class_}/\" + img\n",
    "        image = cv2.imread(img_path)\n",
    "        ratio = image.shape[0] / 1000.0\n",
    "        orig = image.copy()\n",
    "        image = imutils.resize(image, height = 1000)\n",
    "        screenCnt, output_image, gray = find_best_contours(image)\n",
    "        warped = four_point_transform(orig, screenCnt.reshape(4, 2) * ratio)\n",
    "        tranformed_img = PIL.Image.fromarray(cv2.cvtColor(warped, cv2.COLOR_BGR2RGB))\n",
    "        if warped.shape[0] > warped.shape[1]:\n",
    "            tranformed_img = tranformed_img.rotate(-90, PIL.Image.NEAREST, expand = 1)\n",
    "        tranformed_img = tranformed_img.resize(new_size)\n",
    "        if train_or_test == 'test':\n",
    "            tranformed_img.save(destination_images_path+f\"/test/{class_}/{i}.png\")\n",
    "        else:\n",
    "            tranformed_img.save(destination_images_path+f\"/train/{class_}/{i}.png\")\n",
    "        progress_bar.update()"
   ]
  }
 ],
 "metadata": {
  "kernelspec": {
   "display_name": "Python 3",
   "language": "python",
   "name": "python3"
  },
  "language_info": {
   "codemirror_mode": {
    "name": "ipython",
    "version": 3
   },
   "file_extension": ".py",
   "mimetype": "text/x-python",
   "name": "python",
   "nbconvert_exporter": "python",
   "pygments_lexer": "ipython3",
   "version": "3.12.4"
  }
 },
 "nbformat": 4,
 "nbformat_minor": 2
}
